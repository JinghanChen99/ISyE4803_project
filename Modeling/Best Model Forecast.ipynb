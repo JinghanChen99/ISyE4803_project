{
 "cells": [
  {
   "cell_type": "code",
   "execution_count": 1,
   "metadata": {},
   "outputs": [
    {
     "name": "stderr",
     "output_type": "stream",
     "text": [
      "<ipython-input-1-88247441de78>:12: FutureWarning: The pandas.datetime class is deprecated and will be removed from pandas in a future version. Import from datetime module instead.\n",
      "  from pandas import datetime\n"
     ]
    }
   ],
   "source": [
    "# data analysis, wrangling and preprocessing\n",
    "import numpy as np \n",
    "import pandas as pd\n",
    "\n",
    "# data visualization\n",
    "import matplotlib.pyplot as plt\n",
    "import seaborn as sns\n",
    "import plotly.express as px\n",
    "plt.style.use('fivethirtyeight') # change the style of the plot\n",
    "\n",
    "# time series analysis\n",
    "from pandas import datetime\n",
    "from statsmodels.tsa.stattools import pacf\n",
    "from statsmodels.graphics.tsaplots import plot_acf, plot_pacf\n",
    "from statsmodels.tsa.stattools import adfuller\n",
    "import statsmodels.api as sm\n",
    "\n",
    "# preprocessing \n",
    "from sklearn.preprocessing import MinMaxScaler\n",
    "\n",
    "# time series forecasting \n",
    "from pmdarima.arima import ndiffs\n",
    "from statsmodels.tsa.arima.model import ARIMA\n",
    "from statsmodels.tsa.statespace.sarimax import SARIMAX\n",
    "import pmdarima as pm\n",
    "\n",
    "# model evaluation \n",
    "import math\n",
    "from sklearn.metrics import mean_squared_error"
   ]
  },
  {
   "cell_type": "markdown",
   "metadata": {},
   "source": [
    "### Import Dataset"
   ]
  },
  {
   "cell_type": "code",
   "execution_count": 2,
   "metadata": {},
   "outputs": [],
   "source": [
    "dataset = pd.read_csv('../dataset.csv')\n",
    "dataset.head()\n",
    "dataset.index = pd.to_datetime(dataset.index)\n",
    "dataset.index.freq = 'MS'"
   ]
  },
  {
   "cell_type": "code",
   "execution_count": 3,
   "metadata": {
    "scrolled": true
   },
   "outputs": [
    {
     "data": {
      "text/html": [
       "<div>\n",
       "<style scoped>\n",
       "    .dataframe tbody tr th:only-of-type {\n",
       "        vertical-align: middle;\n",
       "    }\n",
       "\n",
       "    .dataframe tbody tr th {\n",
       "        vertical-align: top;\n",
       "    }\n",
       "\n",
       "    .dataframe thead th {\n",
       "        text-align: right;\n",
       "    }\n",
       "</style>\n",
       "<table border=\"1\" class=\"dataframe\">\n",
       "  <thead>\n",
       "    <tr style=\"text-align: right;\">\n",
       "      <th></th>\n",
       "      <th>CPIAUCSL_PC1</th>\n",
       "      <th>UNRATE</th>\n",
       "      <th>FEDFUNDS</th>\n",
       "      <th>T10Y2Y</th>\n",
       "      <th>High</th>\n",
       "      <th>Low</th>\n",
       "      <th>SP500 Close</th>\n",
       "      <th>Volume</th>\n",
       "      <th>ADX</th>\n",
       "      <th>RSI</th>\n",
       "      <th>BB width</th>\n",
       "      <th>SP500 Close Lag 1</th>\n",
       "    </tr>\n",
       "  </thead>\n",
       "  <tbody>\n",
       "    <tr>\n",
       "      <th>1976-06-01</th>\n",
       "      <td>5.98131</td>\n",
       "      <td>7.6</td>\n",
       "      <td>5.48</td>\n",
       "      <td>0.801364</td>\n",
       "      <td>102.507728</td>\n",
       "      <td>100.982727</td>\n",
       "      <td>101.766818</td>\n",
       "      <td>1.896500e+07</td>\n",
       "      <td>NaN</td>\n",
       "      <td>NaN</td>\n",
       "      <td>NaN</td>\n",
       "      <td>104.200953</td>\n",
       "    </tr>\n",
       "    <tr>\n",
       "      <th>1976-07-01</th>\n",
       "      <td>5.55556</td>\n",
       "      <td>7.8</td>\n",
       "      <td>5.31</td>\n",
       "      <td>0.981905</td>\n",
       "      <td>104.933810</td>\n",
       "      <td>103.501905</td>\n",
       "      <td>104.200953</td>\n",
       "      <td>1.875048e+07</td>\n",
       "      <td>NaN</td>\n",
       "      <td>NaN</td>\n",
       "      <td>NaN</td>\n",
       "      <td>103.291818</td>\n",
       "    </tr>\n",
       "    <tr>\n",
       "      <th>1976-08-01</th>\n",
       "      <td>5.71956</td>\n",
       "      <td>7.8</td>\n",
       "      <td>5.29</td>\n",
       "      <td>1.137273</td>\n",
       "      <td>103.985909</td>\n",
       "      <td>102.575001</td>\n",
       "      <td>103.291818</td>\n",
       "      <td>1.575818e+07</td>\n",
       "      <td>NaN</td>\n",
       "      <td>NaN</td>\n",
       "      <td>NaN</td>\n",
       "      <td>105.453333</td>\n",
       "    </tr>\n",
       "    <tr>\n",
       "      <th>1976-09-01</th>\n",
       "      <td>5.49451</td>\n",
       "      <td>7.6</td>\n",
       "      <td>5.25</td>\n",
       "      <td>1.178095</td>\n",
       "      <td>106.130951</td>\n",
       "      <td>104.637618</td>\n",
       "      <td>105.453333</td>\n",
       "      <td>1.975000e+07</td>\n",
       "      <td>NaN</td>\n",
       "      <td>NaN</td>\n",
       "      <td>NaN</td>\n",
       "      <td>101.885238</td>\n",
       "    </tr>\n",
       "    <tr>\n",
       "      <th>1976-10-01</th>\n",
       "      <td>5.46448</td>\n",
       "      <td>7.7</td>\n",
       "      <td>5.02</td>\n",
       "      <td>1.427000</td>\n",
       "      <td>102.681905</td>\n",
       "      <td>101.036191</td>\n",
       "      <td>101.885238</td>\n",
       "      <td>1.720905e+07</td>\n",
       "      <td>NaN</td>\n",
       "      <td>NaN</td>\n",
       "      <td>NaN</td>\n",
       "      <td>101.193500</td>\n",
       "    </tr>\n",
       "  </tbody>\n",
       "</table>\n",
       "</div>"
      ],
      "text/plain": [
       "            CPIAUCSL_PC1  UNRATE  FEDFUNDS    T10Y2Y        High         Low  \\\n",
       "1976-06-01       5.98131     7.6      5.48  0.801364  102.507728  100.982727   \n",
       "1976-07-01       5.55556     7.8      5.31  0.981905  104.933810  103.501905   \n",
       "1976-08-01       5.71956     7.8      5.29  1.137273  103.985909  102.575001   \n",
       "1976-09-01       5.49451     7.6      5.25  1.178095  106.130951  104.637618   \n",
       "1976-10-01       5.46448     7.7      5.02  1.427000  102.681905  101.036191   \n",
       "\n",
       "            SP500 Close        Volume  ADX  RSI  BB width  SP500 Close Lag 1  \n",
       "1976-06-01   101.766818  1.896500e+07  NaN  NaN       NaN         104.200953  \n",
       "1976-07-01   104.200953  1.875048e+07  NaN  NaN       NaN         103.291818  \n",
       "1976-08-01   103.291818  1.575818e+07  NaN  NaN       NaN         105.453333  \n",
       "1976-09-01   105.453333  1.975000e+07  NaN  NaN       NaN         101.885238  \n",
       "1976-10-01   101.885238  1.720905e+07  NaN  NaN       NaN         101.193500  "
      ]
     },
     "execution_count": 3,
     "metadata": {},
     "output_type": "execute_result"
    }
   ],
   "source": [
    "dataset['SP500 Close Lag 1'] = dataset['SP500 Close'].shift(-1)\n",
    "dataset.head()"
   ]
  },
  {
   "cell_type": "code",
   "execution_count": 4,
   "metadata": {
    "scrolled": true
   },
   "outputs": [
    {
     "data": {
      "text/html": [
       "<div>\n",
       "<style scoped>\n",
       "    .dataframe tbody tr th:only-of-type {\n",
       "        vertical-align: middle;\n",
       "    }\n",
       "\n",
       "    .dataframe tbody tr th {\n",
       "        vertical-align: top;\n",
       "    }\n",
       "\n",
       "    .dataframe thead th {\n",
       "        text-align: right;\n",
       "    }\n",
       "</style>\n",
       "<table border=\"1\" class=\"dataframe\">\n",
       "  <thead>\n",
       "    <tr style=\"text-align: right;\">\n",
       "      <th></th>\n",
       "      <th>CPIAUCSL_PC1</th>\n",
       "      <th>UNRATE</th>\n",
       "      <th>FEDFUNDS</th>\n",
       "      <th>T10Y2Y</th>\n",
       "      <th>High</th>\n",
       "      <th>Low</th>\n",
       "      <th>SP500 Close</th>\n",
       "      <th>Volume</th>\n",
       "      <th>ADX</th>\n",
       "      <th>RSI</th>\n",
       "      <th>BB width</th>\n",
       "      <th>SP500 Close Lag 1</th>\n",
       "    </tr>\n",
       "  </thead>\n",
       "  <tbody>\n",
       "    <tr>\n",
       "      <th>2021-12-01</th>\n",
       "      <td>7.09654</td>\n",
       "      <td>3.9</td>\n",
       "      <td>0.08</td>\n",
       "      <td>0.785000</td>\n",
       "      <td>4701.581854</td>\n",
       "      <td>4642.169611</td>\n",
       "      <td>4674.772772</td>\n",
       "      <td>3.122720e+09</td>\n",
       "      <td>45.523755</td>\n",
       "      <td>85.192588</td>\n",
       "      <td>0.543355</td>\n",
       "      <td>4573.815454</td>\n",
       "    </tr>\n",
       "    <tr>\n",
       "      <th>2022-01-01</th>\n",
       "      <td>7.52593</td>\n",
       "      <td>4.0</td>\n",
       "      <td>0.08</td>\n",
       "      <td>0.783500</td>\n",
       "      <td>4619.576025</td>\n",
       "      <td>4528.042017</td>\n",
       "      <td>4573.815454</td>\n",
       "      <td>3.663972e+09</td>\n",
       "      <td>46.122325</td>\n",
       "      <td>78.669780</td>\n",
       "      <td>0.501704</td>\n",
       "      <td>4435.980494</td>\n",
       "    </tr>\n",
       "    <tr>\n",
       "      <th>2022-02-01</th>\n",
       "      <td>7.91202</td>\n",
       "      <td>3.8</td>\n",
       "      <td>0.08</td>\n",
       "      <td>0.498947</td>\n",
       "      <td>4473.607345</td>\n",
       "      <td>4392.072625</td>\n",
       "      <td>4435.980494</td>\n",
       "      <td>3.850936e+09</td>\n",
       "      <td>45.583801</td>\n",
       "      <td>70.709690</td>\n",
       "      <td>0.460878</td>\n",
       "      <td>4391.265264</td>\n",
       "    </tr>\n",
       "    <tr>\n",
       "      <th>2022-03-01</th>\n",
       "      <td>8.55759</td>\n",
       "      <td>3.6</td>\n",
       "      <td>0.20</td>\n",
       "      <td>0.218261</td>\n",
       "      <td>4424.881645</td>\n",
       "      <td>4351.570015</td>\n",
       "      <td>4391.265264</td>\n",
       "      <td>4.390362e+09</td>\n",
       "      <td>44.777416</td>\n",
       "      <td>68.295438</td>\n",
       "      <td>0.419147</td>\n",
       "      <td>4468.859945</td>\n",
       "    </tr>\n",
       "    <tr>\n",
       "      <th>2022-04-01</th>\n",
       "      <td>NaN</td>\n",
       "      <td>NaN</td>\n",
       "      <td>NaN</td>\n",
       "      <td>0.155556</td>\n",
       "      <td>4500.185872</td>\n",
       "      <td>4439.167440</td>\n",
       "      <td>4468.859945</td>\n",
       "      <td>3.565105e+09</td>\n",
       "      <td>44.302466</td>\n",
       "      <td>70.197059</td>\n",
       "      <td>0.389122</td>\n",
       "      <td>NaN</td>\n",
       "    </tr>\n",
       "  </tbody>\n",
       "</table>\n",
       "</div>"
      ],
      "text/plain": [
       "            CPIAUCSL_PC1  UNRATE  FEDFUNDS    T10Y2Y         High  \\\n",
       "2021-12-01       7.09654     3.9      0.08  0.785000  4701.581854   \n",
       "2022-01-01       7.52593     4.0      0.08  0.783500  4619.576025   \n",
       "2022-02-01       7.91202     3.8      0.08  0.498947  4473.607345   \n",
       "2022-03-01       8.55759     3.6      0.20  0.218261  4424.881645   \n",
       "2022-04-01           NaN     NaN       NaN  0.155556  4500.185872   \n",
       "\n",
       "                    Low  SP500 Close        Volume        ADX        RSI  \\\n",
       "2021-12-01  4642.169611  4674.772772  3.122720e+09  45.523755  85.192588   \n",
       "2022-01-01  4528.042017  4573.815454  3.663972e+09  46.122325  78.669780   \n",
       "2022-02-01  4392.072625  4435.980494  3.850936e+09  45.583801  70.709690   \n",
       "2022-03-01  4351.570015  4391.265264  4.390362e+09  44.777416  68.295438   \n",
       "2022-04-01  4439.167440  4468.859945  3.565105e+09  44.302466  70.197059   \n",
       "\n",
       "            BB width  SP500 Close Lag 1  \n",
       "2021-12-01  0.543355        4573.815454  \n",
       "2022-01-01  0.501704        4435.980494  \n",
       "2022-02-01  0.460878        4391.265264  \n",
       "2022-03-01  0.419147        4468.859945  \n",
       "2022-04-01  0.389122                NaN  "
      ]
     },
     "execution_count": 4,
     "metadata": {},
     "output_type": "execute_result"
    }
   ],
   "source": [
    "dataset.tail()"
   ]
  },
  {
   "cell_type": "code",
   "execution_count": 5,
   "metadata": {},
   "outputs": [],
   "source": [
    "model = ARIMA(dataset['SP500 Close Lag 1'].dropna(), order=(0,1,1)) \n",
    "model_fit = model.fit()"
   ]
  },
  {
   "cell_type": "code",
   "execution_count": 6,
   "metadata": {
    "scrolled": true
   },
   "outputs": [
    {
     "name": "stdout",
     "output_type": "stream",
     "text": [
      "2022-04-01    4484.348629\n",
      "Freq: MS, dtype: float64\n",
      "            lower SP500 Close Lag 1  upper SP500 Close Lag 1\n",
      "2022-04-01              4384.229445              4584.467814\n"
     ]
    }
   ],
   "source": [
    "forecast = model_fit.forecast(steps=1)\n",
    "print(forecast)\n",
    "forecast_ci = model_fit.get_forecast(steps=1)\n",
    "ci = forecast_ci.conf_int(alpha=0.05)\n",
    "print(ci)"
   ]
  },
  {
   "cell_type": "code",
   "execution_count": 11,
   "metadata": {},
   "outputs": [
    {
     "data": {
      "text/plain": [
       "0.003465914124217262"
      ]
     },
     "execution_count": 11,
     "metadata": {},
     "output_type": "execute_result"
    }
   ],
   "source": [
    "#### forecast = forecast[0]\n",
    "monthly_return = forecast / dataset['SP500 Close Lag 1'].dropna()[-1] - 1\n",
    "monthly_return[0]"
   ]
  },
  {
   "cell_type": "code",
   "execution_count": 8,
   "metadata": {},
   "outputs": [],
   "source": [
    "# function that's used to annualize a monthly return \n",
    "def annualize(monthly):\n",
    "    return round((1 + monthly) ** 12 - 1, 4)"
   ]
  },
  {
   "cell_type": "code",
   "execution_count": 10,
   "metadata": {},
   "outputs": [
    {
     "data": {
      "text/plain": [
       "0.0424"
      ]
     },
     "execution_count": 10,
     "metadata": {},
     "output_type": "execute_result"
    }
   ],
   "source": [
    "annualize(monthly_return)[0]"
   ]
  },
  {
   "cell_type": "code",
   "execution_count": null,
   "metadata": {},
   "outputs": [],
   "source": []
  }
 ],
 "metadata": {
  "kernelspec": {
   "display_name": "Python 3",
   "language": "python",
   "name": "python3"
  },
  "language_info": {
   "codemirror_mode": {
    "name": "ipython",
    "version": 3
   },
   "file_extension": ".py",
   "mimetype": "text/x-python",
   "name": "python",
   "nbconvert_exporter": "python",
   "pygments_lexer": "ipython3",
   "version": "3.8.5"
  }
 },
 "nbformat": 4,
 "nbformat_minor": 4
}
